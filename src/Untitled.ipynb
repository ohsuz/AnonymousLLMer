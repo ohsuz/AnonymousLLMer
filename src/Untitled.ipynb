{
 "cells": [
  {
   "cell_type": "code",
   "execution_count": 4,
   "id": "382816ca",
   "metadata": {},
   "outputs": [],
   "source": [
    "from prompts.synthetic import *"
   ]
  },
  {
   "cell_type": "code",
   "execution_count": 2,
   "id": "b41f88e1",
   "metadata": {},
   "outputs": [],
   "source": [
    "# !pip install openai"
   ]
  },
  {
   "cell_type": "code",
   "execution_count": 1,
   "id": "c1e02fd8",
   "metadata": {},
   "outputs": [],
   "source": [
    "with open(\"../api_keys/aimlapi.txt\", 'r') as f :\n",
    "    api_key = f.readline().strip()"
   ]
  },
  {
   "cell_type": "code",
   "execution_count": 2,
   "id": "d46b9425",
   "metadata": {},
   "outputs": [],
   "source": [
    "from openai import OpenAI\n",
    "\n",
    "base_url = \"https://api.aimlapi.com/v1\"\n",
    "\n",
    "system_prompt = \"You are a travel agent. Be descriptive and helpful.\"\n",
    "user_prompt = \"Tell me about San Francisco\"\n",
    "\n",
    "api = OpenAI(api_key=api_key, base_url=base_url)"
   ]
  },
  {
   "cell_type": "code",
   "execution_count": 3,
   "id": "35c7c2f1",
   "metadata": {},
   "outputs": [
    {
     "name": "stdout",
     "output_type": "stream",
     "text": [
      "User: Tell me about San Francisco\n",
      "AI: San Francisco, often referred to as \"The City by the Bay,\" is a vibrant, cosmopolitan city that combines stunning natural beauty with a rich cultural heritage. Nestled on the northern tip of the San Francisco Peninsula, this iconic city is renowned for its hilly terrain, foggy weather, and picturesque views.\n",
      "\n",
      "### Landmarks and Attractions\n",
      "1. **Golden Gate Bridge**: One of the most recognizable symbols of San Francisco, this majestic suspension bridge spans the Golden Gate strait, connecting San Francisco to Marin County. It's a must-see, whether you're walking, cycling, or driving across it. The views from both sides are breathtaking, especially at sunrise or sunset.\n",
      "\n",
      "2. **Alcatraz Island**: Home to the infamous Alcatraz Federal Penitentiary, this island in San Francisco Bay offers a unique and eerie experience. Take a guided tour to explore the cells where notorious criminals like Al Capone were once held. The views of the city from the island are also spectacular.\n",
      "\n",
      "3. **Fisherman’s Wharf**: This bustling waterfront area is a hub of activity, with its array of seafood restaurants, street performers, and shops. Don’t miss the chance to see the sea lions lounging on the docks at Pier 39. It’s a great place to start your San Francisco adventure.\n",
      "\n",
      "4. **Cable Cars**: San Francisco’s historic cable cars are not just a mode of transportation but a tourist attraction in themselves. Ride them to explore the city’s hilly streets, and enjoy the unique experience of clinging to the sides as you climb up and down the steep inclines.\n",
      "\n",
      "5. **Golden Gate Park**: This large urban park is a green oasis in the heart of the city, featuring gardens, lakes, and the California Academy of Sciences. The Botanical Garden and the Japanese Tea Garden are particularly noteworthy. It’s a perfect spot for a leisurely afternoon.\n",
      "\n",
      "6. **Haight-Ashbury**: Known as the epicenter of the 1960s counterculture movement, this neighborhood is filled with vintage shops, colorful murals, and a bohemian atmosphere. It’s a great place to grab a bite at a local café or explore the history of the hippie era.\n",
      "\n",
      "7. **The Painted Ladies**: Located on Alamo Square, these Victorian and Edwardian houses are a quintessential San Francisco sight. The best view is from the park across the street, where you can also see the San Francisco skyline in the background.\n",
      "\n",
      "### Culture and Arts\n",
      "-\n"
     ]
    }
   ],
   "source": [
    "def main():\n",
    "    completion = api.chat.completions.create(\n",
    "        model=\"Qwen/Qwen2.5-72B-Instruct-Turbo\",\n",
    "        messages=[\n",
    "            {\"role\": \"user\", \"content\": user_prompt},\n",
    "        ],\n",
    "        temperature=0.7,\n",
    "        max_tokens=256,\n",
    "    )\n",
    "\n",
    "    response = completion.choices[0].message.content\n",
    "\n",
    "    print(\"User:\", user_prompt)\n",
    "    print(\"AI:\", response)\n",
    "\n",
    "\n",
    "if __name__ == \"__main__\":\n",
    "    main()"
   ]
  },
  {
   "cell_type": "code",
   "execution_count": null,
   "id": "5e43ac78",
   "metadata": {},
   "outputs": [],
   "source": []
  }
 ],
 "metadata": {
  "kernelspec": {
   "display_name": "PyTorch 2.4 (NGC 24.07/Python 3.10) on Backend.AI",
   "language": "python",
   "name": "python3"
  },
  "language_info": {
   "codemirror_mode": {
    "name": "ipython",
    "version": 3
   },
   "file_extension": ".py",
   "mimetype": "text/x-python",
   "name": "python",
   "nbconvert_exporter": "python",
   "pygments_lexer": "ipython3",
   "version": "3.10.12"
  }
 },
 "nbformat": 4,
 "nbformat_minor": 5
}
